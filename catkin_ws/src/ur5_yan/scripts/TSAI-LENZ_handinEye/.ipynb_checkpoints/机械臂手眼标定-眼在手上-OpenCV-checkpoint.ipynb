{
 "cells": [
  {
   "cell_type": "markdown",
   "id": "2a03387a",
   "metadata": {},
   "source": [
    "# 机械臂手眼标定-眼在手上-OpenCV\n",
    "使用OpenCV内置的手眼标定API， 来完成手在眼上的手眼标定。"
   ]
  },
  {
   "cell_type": "code",
   "execution_count": 1,
   "id": "afaf74d2",
   "metadata": {},
   "outputs": [],
   "source": [
    "import numpy as np\n",
    "import cv2\n",
    "# 自定义库\n",
    "from transform import Transform\n",
    "from pose import Pose\n",
    "from tsai import calibration_eye_in_hand\n",
    "\n",
    "np.set_printoptions(precision=3, suppress=True)"
   ]
  },
  {
   "cell_type": "markdown",
   "id": "5b84ac63",
   "metadata": {},
   "source": [
    "## 原始数据"
   ]
  },
  {
   "cell_type": "code",
   "execution_count": 2,
   "id": "1cb1c550",
   "metadata": {},
   "outputs": [],
   "source": [
    "# 原始数据: 腕关节在机械臂基坐标系下的位姿 ^{arm}_{wrist}T\n",
    "# 数据来源: 通过ABB六轴机械臂示教器读取\n",
    "# 数据格式: x,y,z，roll,pitch,yaw\n",
    "# xyz为三维坐标，单位m\n",
    "# [roll, pitch, yaw] 为欧拉角, 单位°\n",
    "raw_wrist_pose = np.float64([\n",
    "    [-694.970, -96.600, 412.730, 2.377, 2.542, -0.696],\n",
    "    [],\n",
    "    [],\n",
    "    [],\n",
    "    [],\n",
    "    [],\n",
    "    [],\n",
    "    [],\n",
    "    [],\n",
    "    [],\n",
    "])\n",
    "[],\n",
    "# 原始数据: 标定板在相机坐标系下的位姿 ^{cami}_{board}T\n",
    "# 数据来源: 相机标定得到，相机外参。\n",
    "# 数据格式: x,y,z,xn,yn,zn \n",
    "# xyz为三维坐标，单位m\n",
    "# [xn, yn, zn]=rvect 旋转向量, 旋转角度为旋转向量的模长.\n",
    "raw_caliboard_pose = np.float64([\n",
    "    [-0.06662953845637372, 0.04019602006327617, 0.5464875871631536, 0.046111185398717426, 0.12087048518975, -1.490245285071334],\n",
    "    [],\n",
    "    [],\n",
    "    [],\n",
    "    [],\n",
    "    [],\n",
    "    [],\n",
    "    [],\n",
    "    [],\n",
    "    [],\n",
    "    ])\n",
    "\n"
   ]
  },
  {
   "cell_type": "markdown",
   "id": "ad1943c2",
   "metadata": {},
   "source": [
    "## 构造旋转矩阵与平移向量"
   ]
  },
  {
   "cell_type": "code",
   "execution_count": 3,
   "id": "06f9bb26",
   "metadata": {},
   "outputs": [
    {
     "name": "stdout",
     "output_type": "stream",
     "text": [
      "R_arm2wrist & t_arm2wrist_list\n"
     ]
    }
   ],
   "source": [
    "print(\"R_arm2wrist & t_arm2wrist_list\")\n",
    "# 腕关节在机械臂基坐标系下的位姿\n",
    "R_arm2wrist_list = []\n",
    "t_arm2wrist_list = []\n",
    "T_arm2wrist_list = []\n",
    "for x, y, z, roll, pitch, yaw in raw_wrist_pose:\n",
    "    # 欧拉角转换为弧度\n",
    "    rpy = np.radians(np.float64([roll, pitch, yaw]))\n",
    "    # 旋转矩阵与平移向量\n",
    "    R_arm2wrist = Transform.euler2rmat(*rpy)\n",
    "    t_arm2wrist = np.float64([x, y, z])\n",
    "    # 齐次变换矩阵\n",
    "    T_arm2wrist = np.eye(4)\n",
    "    T_arm2wrist[:3, :3] = R_arm2wrist\n",
    "    T_arm2wrist[:3, 3] = t_arm2wrist\n",
    "    # 添加到列表\n",
    "    R_arm2wrist_list.append(R_arm2wrist)\n",
    "    t_arm2wrist_list.append(t_arm2wrist)\n",
    "    T_arm2wrist_list.append(T_arm2wrist)"
   ]
  },
  {
   "cell_type": "code",
   "execution_count": 4,
   "id": "aa475219",
   "metadata": {},
   "outputs": [
    {
     "name": "stdout",
     "output_type": "stream",
     "text": [
      "R_cam2board_list & t_cam2board_list\n"
     ]
    }
   ],
   "source": [
    "print(\"R_cam2board_list & t_cam2board_list\")\n",
    "R_cam2board_list = []\n",
    "t_cam2board_list = []\n",
    "T_cam2board_list = []\n",
    "for x, y, z, xn, yn, zn in raw_caliboard_pose:\n",
    "    # 旋转向量转换为旋转矩阵\n",
    "    R_cami2board = Transform.rvect2rmat([xn, yn, zn])\n",
    "    t_cami2board = np.float64([x, y, z])\n",
    "    # 齐次变换矩阵\n",
    "    T_cam2board = np.eye(4)\n",
    "    T_cam2board[:3, :3] = R_cami2board\n",
    "    T_cam2board[:3, 3] = t_cami2board\n",
    "    # 添加到列表\n",
    "    R_cam2board_list.append(R_cami2board)\n",
    "    t_cam2board_list.append(t_cami2board)\n",
    "    T_cam2board_list.append(T_cam2board)"
   ]
  },
  {
   "cell_type": "markdown",
   "id": "67617cbe",
   "metadata": {},
   "source": [
    "## OpenCV手眼标定"
   ]
  },
  {
   "cell_type": "code",
   "execution_count": 10,
   "id": "98b3d322",
   "metadata": {},
   "outputs": [
    {
     "name": "stdout",
     "output_type": "stream",
     "text": [
      "T_wrist2cam\n",
      "[[-0.021  1.     0.018 -0.115]\n",
      " [-1.    -0.021 -0.002  0.033]\n",
      " [-0.002 -0.018  1.    -0.028]\n",
      " [ 0.     0.     0.     1.   ]]\n"
     ]
    }
   ],
   "source": [
    "R_wrist2cam, t_wrist2cam = cv2.calibrateHandEye(R_arm2wrist_list, \\\n",
    "                    t_arm2wrist_list, R_cam2board_list, t_cam2board_list, \\\n",
    "                    method=cv2.CALIB_HAND_EYE_TSAI)\n",
    "T_wrist2cam = np.eye(4)\n",
    "T_wrist2cam[:3, :3] = R_wrist2cam\n",
    "T_wrist2cam[:3, 3] = t_wrist2cam.reshape(-1)\n",
    "\n",
    "print(\"T_wrist2cam\")\n",
    "print(T_wrist2cam)"
   ]
  },
  {
   "cell_type": "markdown",
   "id": "33fbc32f",
   "metadata": {},
   "source": [
    "## 验证标定结果"
   ]
  },
  {
   "cell_type": "code",
   "execution_count": 7,
   "id": "79c741e0",
   "metadata": {},
   "outputs": [
    {
     "name": "stdout",
     "output_type": "stream",
     "text": [
      "标定板坐标[0]: [1.236 0.172 0.79 ]\n",
      "标定板坐标[1]: [1.236 0.172 0.791]\n",
      "标定板坐标[2]: [1.236 0.173 0.791]\n",
      "标定板坐标[3]: [1.235 0.174 0.791]\n",
      "标定板坐标[4]: [1.233 0.173 0.791]\n",
      "标定板坐标[5]: [1.228 0.169 0.794]\n",
      "标定板坐标[6]: [1.227 0.17  0.797]\n",
      "标定板坐标[7]: [1.227 0.171 0.797]\n",
      "标定板坐标[8]: [1.228 0.172 0.796]\n",
      "标定板坐标[9]: [1.228 0.171 0.795]\n",
      "标定板坐标[10]: [1.228 0.171 0.796]\n",
      "标定板坐标[11]: [1.228 0.169 0.796]\n"
     ]
    }
   ],
   "source": [
    "n_sample = len(T_arm2wrist_list)\n",
    "t_arm2board_list = []\n",
    "for i in range(n_sample):\n",
    "    T_arm2wristi = T_arm2wrist_list[i]\n",
    "    T_cami2board = T_cam2board_list[i]\n",
    "    T_arm2board = np.dot(np.dot(T_arm2wristi, T_wrist2cam), T_cami2board)\n",
    "    t_arm2board = T_arm2board[:3, 3]\n",
    "    print(f\"标定板坐标[{i}]: {t_arm2board}\")\n",
    "    t_arm2board_list.append(t_arm2board)"
   ]
  },
  {
   "cell_type": "code",
   "execution_count": 8,
   "id": "efb93b5c",
   "metadata": {},
   "outputs": [
    {
     "name": "stdout",
     "output_type": "stream",
     "text": [
      "均值: [1.231 0.171 0.794]\n",
      "各轴误差: [[ 0.006  0.001 -0.004]\n",
      " [ 0.005  0.    -0.003]\n",
      " [ 0.005  0.001 -0.002]\n",
      " [ 0.004  0.003 -0.003]\n",
      " [ 0.002  0.002 -0.003]\n",
      " [-0.003 -0.003  0.   ]\n",
      " [-0.004 -0.002  0.003]\n",
      " [-0.004 -0.     0.004]\n",
      " [-0.003  0.001  0.003]\n",
      " [-0.003 -0.001  0.001]\n",
      " [-0.003 -0.     0.002]\n",
      " [-0.003 -0.002  0.003]]\n",
      "欧式距离: [0.007 0.006 0.006 0.006 0.004 0.004 0.005 0.005 0.004 0.003 0.003 0.005]\n"
     ]
    }
   ],
   "source": [
    "t_arm2board_list = np.float64(t_arm2board_list)\n",
    "# 计算均值\n",
    "t_arm2board_mean = np.mean(t_arm2board_list, axis=0)\n",
    "print(f\"均值: {t_arm2board_mean}\")\n",
    "error_xyz = t_arm2board_list - t_arm2board_mean\n",
    "print(f\"各轴误差: {error_xyz}\")\n",
    "distance = np.linalg.norm(error_xyz, axis=1)\n",
    "print(f\"欧式距离: {distance}\")"
   ]
  },
  {
   "cell_type": "code",
   "execution_count": 9,
   "id": "69d4523a",
   "metadata": {},
   "outputs": [
    {
     "name": "stdout",
     "output_type": "stream",
     "text": [
      "distance_mean : 0.00483045688515282\n"
     ]
    }
   ],
   "source": [
    "distance_mean = np.mean(distance)\n",
    "print(f\"distance_mean : {distance_mean}\")"
   ]
  },
  {
   "cell_type": "markdown",
   "id": "014f4f5e",
   "metadata": {},
   "source": [
    "可以看到标定板在机械臂基坐标系下的位置误差， 最大是7mm， 均值为4.8mm。"
   ]
  }
 ],
 "metadata": {
  "kernelspec": {
   "display_name": "Python 3",
   "language": "python",
   "name": "python3"
  },
  "language_info": {
   "codemirror_mode": {
    "name": "ipython",
    "version": 3
   },
   "file_extension": ".py",
   "mimetype": "text/x-python",
   "name": "python",
   "nbconvert_exporter": "python",
   "pygments_lexer": "ipython3",
   "version": "3.6.9"
  }
 },
 "nbformat": 4,
 "nbformat_minor": 5
}
